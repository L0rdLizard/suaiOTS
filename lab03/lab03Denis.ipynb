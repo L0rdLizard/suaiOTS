{
 "cells": [
  {
   "cell_type": "code",
   "execution_count": 1,
   "id": "8e7ff32823e4882d",
   "metadata": {
    "collapsed": true,
    "ExecuteTime": {
     "end_time": "2023-11-30T19:53:13.616077Z",
     "start_time": "2023-11-30T19:53:12.840167300Z"
    }
   },
   "outputs": [
    {
     "name": "stdout",
     "output_type": "stream",
     "text": [
      "(phi1, phi1) = 0.9635416666666673\n",
      "(phi1, phi2) = 0.009021097956087663\n",
      "(phi2, phi1) = 0.009021097956087663\n",
      "(phi2, phi2) = 0.9947916666666667\n"
     ]
    }
   ],
   "source": [
    "import matplotlib.pyplot as plt\n",
    "import numpy as np\n",
    "\n",
    "# III-3\n",
    "f0 = 2400  # Гц\n",
    "Vmod = 600  # Бод\n",
    "Vinf = 1200  # бит/с\n",
    "T = 1 / Vmod\n",
    "m = Vinf // Vmod\n",
    "q = 2 ** m\n",
    "A = 1  # амплитуда\n",
    "Ns = 12\n",
    "dt = (1/f0)/Ns\n",
    "\n",
    "# Получение коэффициентов по номеру сигнала\n",
    "\n",
    "\n",
    "def getSi12(i):\n",
    "    i1 = i // np.sqrt(q)\n",
    "    i2 = i % np.sqrt(q)\n",
    "    si1 = A * (1 - ((2 * i1) / (np.sqrt(q) - 1)))\n",
    "    si2 = A * (1 - ((2 * i2) / (np.sqrt(q) - 1)))\n",
    "    return si1, si2\n",
    "\n",
    "\n",
    "def S(si, t):\n",
    "    return (si[0] * np.sqrt(2 / T) * np.cos(2 * np.pi * f0 * t) + \n",
    "            si[1] * np.sqrt(2 / T) * np.sin(2 * np.pi * f0 * t))\n",
    "\n",
    "\n",
    "# Ортонормированные функции\n",
    "\n",
    "\n",
    "def phi1(t):\n",
    "    return np.sqrt(2 / T) * np.cos(2 * np.pi * f0 * t)\n",
    "\n",
    "\n",
    "def phi2(t):\n",
    "    return np.sqrt(2 / T) * np.sin(2 * np.pi * f0 * t)\n",
    "\n",
    "t = np.arange(0, T, dt)\n",
    "\n",
    "# Проверка равенства (3.1)\n",
    "print('(phi1, phi1) = {}'.format(np.trapz(phi1(t) * phi1(t), dx=dt)))\n",
    "print('(phi1, phi2) = {}'.format(np.trapz(phi1(t) * phi2(t), dx=dt)))\n",
    "print('(phi2, phi1) = {}'.format(np.trapz(phi2(t) * phi1(t), dx=dt)))\n",
    "print('(phi2, phi2) = {}'.format(np.trapz(phi2(t) * phi2(t), dx=dt)))"
   ]
  },
  {
   "cell_type": "code",
   "execution_count": 2,
   "outputs": [
    {
     "data": {
      "text/plain": "<Figure size 640x480 with 1 Axes>",
      "image/png": "[encoded data removed]"
     },
     "metadata": {},
     "output_type": "display_data"
    }
   ],
   "source": [
    "for i in range(q):\n",
    "    Si12 = getSi12(i)\n",
    "    Si = S(Si12, t)\n",
    "    x = phi1(t)\n",
    "    y = phi2(t)\n",
    "    Sijx = np.trapz(Si * x, dx=dt)\n",
    "    Sijy = np.trapz(Si * y, dx=dt)\n",
    "    plt.scatter(Sijx, Sijy)  # , label='S{}'.format(i))\n",
    "\n",
    "size = int(np.sqrt(q))\n",
    "dx = 1 / size\n",
    "areas = np.linspace(-1.0 - dx, 1.0 + dx, size + 1)\n",
    "\n",
    "draw_lines = True\n",
    "\n",
    "if draw_lines:\n",
    "    for i, val in enumerate(areas):\n",
    "        if i == 0 or i == size:\n",
    "            continue\n",
    "        plt.plot([val, val], [1.0 + dx, -1.0 - dx],\n",
    "                 color=\"green\", linestyle=\"--\")\n",
    "        plt.plot([1.0 + dx, -1.0 - dx], [val, val],\n",
    "                 color=\"green\", linestyle=\"--\")\n",
    "\n",
    "# plt.legend()\n",
    "plt.grid()\n",
    "plt.show()\n"
   ],
   "metadata": {
    "collapsed": false,
    "ExecuteTime": {
     "end_time": "2023-11-30T19:53:13.868833800Z",
     "start_time": "2023-11-30T19:53:13.617066400Z"
    }
   },
   "id": "initial_id"
  }
 ],
 "metadata": {
  "kernelspec": {
   "display_name": "Python 3",
   "language": "python",
   "name": "python3"
  },
  "language_info": {
   "codemirror_mode": {
    "name": "ipython",
    "version": 2
   },
   "file_extension": ".py",
   "mimetype": "text/x-python",
   "name": "python",
   "nbconvert_exporter": "python",
   "pygments_lexer": "ipython2",
   "version": "2.7.6"
  }
 },
 "nbformat": 4,
 "nbformat_minor": 5
}
