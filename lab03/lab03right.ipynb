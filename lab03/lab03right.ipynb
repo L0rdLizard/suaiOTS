{
 "cells": [
  {
   "cell_type": "code",
   "execution_count": 4,
   "id": "initial_id",
   "metadata": {
    "collapsed": true,
    "ExecuteTime": {
     "end_time": "2023-12-07T20:49:22.035796300Z",
     "start_time": "2023-12-07T20:49:21.922919400Z"
    }
   },
   "outputs": [
    {
     "name": "stdout",
     "output_type": "stream",
     "text": [
      "1.0025510204081634\n",
      "-0.17776614175149175\n",
      "-0.17776614175149175\n",
      "0.9904245805721001\n"
     ]
    },
    {
     "ename": "IndexError",
     "evalue": "too many indices for array: array is 1-dimensional, but 2 were indexed",
     "output_type": "error",
     "traceback": [
      "\u001B[1;31m---------------------------------------------------------------------------\u001B[0m",
      "\u001B[1;31mIndexError\u001B[0m                                Traceback (most recent call last)",
      "Cell \u001B[1;32mIn[4], line 37\u001B[0m\n\u001B[0;32m     33\u001B[0m \u001B[38;5;28mprint\u001B[39m(np\u001B[38;5;241m.\u001B[39msum(Fi[\u001B[38;5;241m1\u001B[39m, :] \u001B[38;5;241m*\u001B[39m Fi[\u001B[38;5;241m1\u001B[39m, :]) \u001B[38;5;241m*\u001B[39m dt)\n\u001B[0;32m     35\u001B[0m sij \u001B[38;5;241m=\u001B[39m np\u001B[38;5;241m.\u001B[39mzeros(\u001B[38;5;241m4\u001B[39m)\n\u001B[1;32m---> 37\u001B[0m sij[\u001B[38;5;241m0\u001B[39m] \u001B[38;5;241m=\u001B[39m np\u001B[38;5;241m.\u001B[39msum(\u001B[43ms\u001B[49m\u001B[43m[\u001B[49m\u001B[38;5;241;43m0\u001B[39;49m\u001B[43m,\u001B[49m\u001B[43m \u001B[49m\u001B[43m:\u001B[49m\u001B[43m]\u001B[49m \u001B[38;5;241m*\u001B[39m Fi[\u001B[38;5;241m0\u001B[39m, :]) \u001B[38;5;241m*\u001B[39m dt\n\u001B[0;32m     38\u001B[0m sij[\u001B[38;5;241m1\u001B[39m] \u001B[38;5;241m=\u001B[39m np\u001B[38;5;241m.\u001B[39msum(s[\u001B[38;5;241m0\u001B[39m, :] \u001B[38;5;241m*\u001B[39m Fi[\u001B[38;5;241m1\u001B[39m, :]) \u001B[38;5;241m*\u001B[39m dt\n\u001B[0;32m     39\u001B[0m sij[\u001B[38;5;241m2\u001B[39m] \u001B[38;5;241m=\u001B[39m np\u001B[38;5;241m.\u001B[39msum(s[\u001B[38;5;241m1\u001B[39m, :] \u001B[38;5;241m*\u001B[39m Fi[\u001B[38;5;241m0\u001B[39m, :]) \u001B[38;5;241m*\u001B[39m dt\n",
      "\u001B[1;31mIndexError\u001B[0m: too many indices for array: array is 1-dimensional, but 2 were indexed"
     ]
    }
   ],
   "source": [
    "import numpy as np\n",
    "import matplotlib.pyplot as plt\n",
    "\n",
    "f0 = 980\n",
    "f1 = 1180\n",
    "# f0 = 1650\n",
    "# f1 = 1950\n",
    "E = 1\n",
    "\n",
    "Vmod = 300\n",
    "Vinf = 300\n",
    "\n",
    "T = 1 / Vmod\n",
    "\n",
    "dt = (1 / f0) / 40\n",
    "t = np.arange(0, T, dt)\n",
    "\n",
    "q = 2\n",
    "nfig = 1\n",
    "\n",
    "sfunc = lambda t: np.sqrt(2*E/T) * np.cos(2 * np.pi * f0 * t)\n",
    "s = sfunc(t)\n",
    "\n",
    "# Assuming t, f0, f1, T, dt, and s are defined\n",
    "\n",
    "Fi = np.zeros((q, len(t)))\n",
    "Fi[0, :] = np.sqrt(2 / T) * np.cos(2 * np.pi * f0 * t)\n",
    "Fi[1, :] = np.sqrt(2 / T) * np.cos(2 * np.pi * f1 * t)\n",
    "\n",
    "print(np.sum(Fi[0, :] * Fi[0, :]) * dt)\n",
    "print(np.sum(Fi[0, :] * Fi[1, :]) * dt)\n",
    "print(np.sum(Fi[1, :] * Fi[0, :]) * dt)\n",
    "print(np.sum(Fi[1, :] * Fi[1, :]) * dt)\n",
    "\n",
    "sij = np.zeros(4)\n",
    "\n",
    "sij[0] = np.sum(s[0, :] * Fi[0, :]) * dt\n",
    "sij[1] = np.sum(s[0, :] * Fi[1, :]) * dt\n",
    "sij[2] = np.sum(s[1, :] * Fi[0, :]) * dt\n",
    "sij[3] = np.sum(s[1, :] * Fi[1, :]) * dt\n",
    "\n",
    "lineX = np.arange(-0.5, 0.6, 0.1)\n",
    "lineY = np.arange(-0.5, 0.6, 0.1)\n",
    "\n",
    "plt.figure(nfig + 7)\n",
    "plt.plot(sij[0], sij[1], 'ro', markersize=10, color='blue')\n",
    "plt.hold(True)\n",
    "plt.plot(sij[2], sij[3], 'ro', markersize=10)\n",
    "plt.hold(True)\n",
    "plt.plot(lineX, lineY, color='cyan')\n",
    "plt.legend(['s1', 's2', 'line'])\n",
    "plt.show()\n"
   ]
  }
 ],
 "metadata": {
  "kernelspec": {
   "display_name": "Python 3",
   "language": "python",
   "name": "python3"
  },
  "language_info": {
   "codemirror_mode": {
    "name": "ipython",
    "version": 2
   },
   "file_extension": ".py",
   "mimetype": "text/x-python",
   "name": "python",
   "nbconvert_exporter": "python",
   "pygments_lexer": "ipython2",
   "version": "2.7.6"
  }
 },
 "nbformat": 4,
 "nbformat_minor": 5
}
